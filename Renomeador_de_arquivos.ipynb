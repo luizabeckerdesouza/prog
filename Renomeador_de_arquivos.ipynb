{
  "nbformat": 4,
  "nbformat_minor": 0,
  "metadata": {
    "colab": {
      "provenance": [],
      "authorship_tag": "ABX9TyP2wha9kJVUCumHJ5puyHQO",
      "include_colab_link": true
    },
    "kernelspec": {
      "name": "python3",
      "display_name": "Python 3"
    },
    "language_info": {
      "name": "python"
    }
  },
  "cells": [
    {
      "cell_type": "markdown",
      "metadata": {
        "id": "view-in-github",
        "colab_type": "text"
      },
      "source": [
        "<a href=\"https://colab.research.google.com/github/luizabeckerdesouza/prog/blob/main/Renomeador_de_arquivos.ipynb\" target=\"_parent\"><img src=\"https://colab.research.google.com/assets/colab-badge.svg\" alt=\"Open In Colab\"/></a>"
      ]
    },
    {
      "cell_type": "code",
      "execution_count": null,
      "metadata": {
        "colab": {
          "base_uri": "https://localhost:8080/"
        },
        "id": "Ihdrpq-0qKQC",
        "outputId": "1864af02-c530-441e-e84c-d283cd7e3365"
      },
      "outputs": [
        {
          "output_type": "stream",
          "name": "stdout",
          "text": [
            "Mounted at /content/drive\n"
          ]
        }
      ],
      "source": [
        "# Célula 1: Montar o Google Drive\n",
        "# Ao executar esta célula, uma janela pop-up pedirá permissão\n",
        "# para conectar sua conta do Google Drive.\n",
        "from google.colab import drive\n",
        "drive.mount('/content/drive')"
      ]
    },
    {
      "cell_type": "code",
      "source": [
        "# Célula 2: Definir o Caminho e os Arquivos para Renomear\n",
        "import os\n",
        "\n",
        "# --- 1. DEFINA O CAMINHO DA PASTA ---\n",
        "# ATUALIZADO para a nova subpasta que você criou.\n",
        "# Use '/' como separador. Verifique os nomes exatos das pastas.\n",
        "folder_path = r\"/content/drive/Shared drives/CGP ADVOGADOS/CLIENTES/Jaime Ramos/Proc 0012345-67.2025.8.21.0001 (TJRS - cumprimento de sentença)/Decisões e andamentos/Download AI 5025256-41.2013.8.21.0001\" # <<< CONFIRME/AJUSTE ESTE CAMINHO\n",
        "\n",
        "\n",
        "# --- 2. MAPA DE NOMES (ANTIGO -> NOVO) ---\n",
        "# Mapeamento dos nomes originais (com -compressed/-ocr) para os nomes desejados\n",
        "rename_map = {\n",
        "    \"AI 5018213-85.2025.8.21.7000 Parte 1-compressed-ocr.pdf\": \"AI 5018213-85 (TJRS) - Processo Completo (até 2025-10-27) - Parte 1 de 8.pdf\",\n",
        "    \"AI 5018213-85.2025.8.21.7000 Parte 2-compressed.pdf\":      \"AI 5018213-85 (TJRS) - Processo Completo (até 2025-10-27) - Parte 2 de 8.pdf\",\n",
        "    \"AI 5018213-85.2025.8.21.7000 Parte 3-compressed.pdf\":      \"AI 5018213-85 (TJRS) - Processo Completo (até 2025-10-27) - Parte 3 de 8.pdf\",\n",
        "    \"AI 5018213-85.2025.8.21.7000 Parte 4-compressed.pdf\":      \"AI 5018213-85 (TJRS) - Processo Completo (até 2025-10-27) - Parte 4 de 8.pdf\",\n",
        "    \"AI 5018213-85.2025.8.21.7000 Parte 5-compressed.pdf\":      \"AI 5018213-85 (TJRS) - Processo Completo (até 2025-10-27) - Parte 5 de 8.pdf\",\n",
        "    \"AI 5018213-85.2025.8.21.7000 Parte 6-compressed.pdf\":      \"AI 5018213-85 (TJRS) - Processo Completo (até 2025-10-27) - Parte 6 de 8.pdf\",\n",
        "    \"AI 5018213-85.2025.8.21.7000 Parte 7-compressed.pdf\":      \"AI 5018213-85 (TJRS) - Processo Completo (até 2025-10-27) - Parte 7 de 8.pdf\",\n",
        "    \"AI 5018213-85.2025.8.21.7000 Parte 8-compressed.pdf\":      \"AI 5018213-85 (TJRS) - Processo Completo (até 2025-10-27) - Parte 8 de 8.pdf\"\n",
        "    # Ajuste a data (2025-10-27) nos nomes novos se necessário\n",
        "}\n",
        "\n",
        "\n",
        "print(f\"--- Verificação do Ambiente ---\")\n",
        "print(f\"Caminho da pasta definido como: {folder_path}\")\n",
        "if not os.path.exists(folder_path):\n",
        "    print(\"\\n!!! ATENÇÃO: O CAMINHO DA PASTA ACIMA NÃO FOI ENCONTRADO. !!!\")\n",
        "    print(\"Verifique se o nome do Drive Compartilhado e TODAS as subpastas estão corretos (use '/' como separador).\")\n",
        "else:\n",
        "    print(\"Caminho da pasta encontrado com sucesso.\")\n",
        "\n",
        "print(f\"Total de arquivos para renomear (no mapa): {len(rename_map)}\")\n",
        "print(\"---------------------------------\")"
      ],
      "metadata": {
        "colab": {
          "base_uri": "https://localhost:8080/"
        },
        "id": "MGFjQvwkqSY1",
        "outputId": "3f332176-1f0f-4825-ee5a-9c91e48208b0"
      },
      "execution_count": null,
      "outputs": [
        {
          "output_type": "stream",
          "name": "stdout",
          "text": [
            "--- Verificação do Ambiente ---\n",
            "Caminho da pasta definido como: /content/drive/Shared drives/CGP ADVOGADOS/CLIENTES/Jaime Ramos/Proc 0012345-67.2025.8.21.0001 (TJRS - cumprimento de sentença)/Decisões e andamentos/Download AI 5025256-41.2013.8.21.0001\n",
            "Caminho da pasta encontrado com sucesso.\n",
            "Total de arquivos para renomear (no mapa): 8\n",
            "---------------------------------\n"
          ]
        }
      ]
    },
    {
      "cell_type": "code",
      "source": [
        "# Célula 3: Executar a Ação de Renomear\n",
        "# Este script verifica se o arquivo antigo existe antes de tentar renomear.\n",
        "\n",
        "print(\"--- INICIANDO PROCESSO DE RENOMEAÇÃO ---\")\n",
        "print(\"\\n\")\n",
        "\n",
        "renamed_count = 0\n",
        "not_found_count = 0\n",
        "already_exists_count = 0\n",
        "error_count = 0\n",
        "\n",
        "# Adiciona listagem de arquivos para diagnóstico\n",
        "print(\"--- Verificando Conteúdo da Pasta ---\")\n",
        "try:\n",
        "    if os.path.exists(folder_path):\n",
        "        print(f\"Arquivos encontrados em '{folder_path}':\")\n",
        "        lista_arquivos = os.listdir(folder_path)\n",
        "        if not lista_arquivos:\n",
        "            print(\"(Nenhum arquivo encontrado)\")\n",
        "        else:\n",
        "            # Lista apenas os arquivos que estão no rename_map para clareza\n",
        "            arquivos_relevantes = [f for f in lista_arquivos if f in rename_map]\n",
        "            if arquivos_relevantes:\n",
        "                 for nome_arquivo in arquivos_relevantes:\n",
        "                    print(f\"- {nome_arquivo}\")\n",
        "            else:\n",
        "                 print(\"(Nenhum dos arquivos a serem renomeados foi encontrado nesta pasta)\")\n",
        "\n",
        "    else:\n",
        "         print(f\"ERRO: A pasta '{folder_path}' não foi encontrada ao tentar listar arquivos.\")\n",
        "except Exception as e:\n",
        "    print(f\"ERRO ao listar arquivos: {e}\")\n",
        "print(\"-------------------------------------\\n\")\n",
        "\n",
        "\n",
        "# Verifica se a pasta de destino existe ANTES de prosseguir\n",
        "if not os.path.exists(folder_path):\n",
        "    print(f\"ERRO CRÍTICO: O caminho da pasta não foi encontrado! O script não pode continuar.\")\n",
        "    print(f\"Verifique o 'folder_path' na Célula 2.\")\n",
        "else:\n",
        "    # Itera sobre o mapa de renomeação\n",
        "    for old_name, new_name in rename_map.items():\n",
        "\n",
        "        # Cria o caminho completo para o arquivo antigo e novo\n",
        "        old_file_path = os.path.join(folder_path, old_name)\n",
        "        new_file_path = os.path.join(folder_path, new_name)\n",
        "\n",
        "        # 1. Verifica se o arquivo antigo realmente existe\n",
        "        if os.path.exists(old_file_path):\n",
        "\n",
        "            # 2. Verifica se o nome já está correto ou se o novo nome já existe\n",
        "            if old_file_path == new_file_path:\n",
        "                 print(f\"[INFO] O nome '{old_name}' já está correto. Pulando.\")\n",
        "                 already_exists_count += 1 # Conta como pulado\n",
        "            elif os.path.exists(new_file_path):\n",
        "                print(f\"[AVISO] O novo nome '{new_name}' JÁ EXISTE. Pulando '{old_name}'.\")\n",
        "                already_exists_count += 1\n",
        "            else:\n",
        "                # 3. Se tudo estiver OK, renomeia o arquivo\n",
        "                try:\n",
        "                    os.rename(old_file_path, new_file_path)\n",
        "                    print(f\"[SUCESSO] Renomeado: '{old_name}' -> '{new_name}'\")\n",
        "                    renamed_count += 1\n",
        "                except Exception as e:\n",
        "                    print(f\"[ERRO] Falha ao renomear '{old_name}': {e}\")\n",
        "                    error_count += 1\n",
        "        else:\n",
        "            # Se o arquivo antigo não foi encontrado\n",
        "            print(f\"[FALHA] Arquivo antigo não encontrado nesta pasta: '{old_name}'\")\n",
        "            not_found_count += 1\n",
        "\n",
        "    print(\"\\n\")\n",
        "    print(\"--- PROCESSO CONCLUÍDO ---\")\n",
        "    print(f\"Arquivos renomeados com sucesso: {renamed_count}\")\n",
        "    print(f\"Arquivos antigos não encontrados nesta pasta: {not_found_count}\")\n",
        "    print(f\"Arquivos pulados (novo nome já existia ou nome já correto): {already_exists_count}\")\n",
        "    if error_count > 0:\n",
        "        print(f\"Erros durante a renomeação: {error_count}\")"
      ],
      "metadata": {
        "colab": {
          "base_uri": "https://localhost:8080/"
        },
        "id": "9rd57G-NqT9G",
        "outputId": "1cddcc33-3388-4484-f4f5-2b40da2e123f"
      },
      "execution_count": null,
      "outputs": [
        {
          "output_type": "stream",
          "name": "stdout",
          "text": [
            "--- INICIANDO PROCESSO DE RENOMEAÇÃO ---\n",
            "\n",
            "\n",
            "--- Verificando Conteúdo da Pasta ---\n",
            "Arquivos encontrados em '/content/drive/Shared drives/CGP ADVOGADOS/CLIENTES/Jaime Ramos/Proc 0012345-67.2025.8.21.0001 (TJRS - cumprimento de sentença)/Decisões e andamentos/Download AI 5025256-41.2013.8.21.0001':\n",
            "- AI 5018213-85.2025.8.21.7000 Parte 4-compressed.pdf\n",
            "- AI 5018213-85.2025.8.21.7000 Parte 5-compressed.pdf\n",
            "- AI 5018213-85.2025.8.21.7000 Parte 2-compressed.pdf\n",
            "- AI 5018213-85.2025.8.21.7000 Parte 6-compressed.pdf\n",
            "- AI 5018213-85.2025.8.21.7000 Parte 3-compressed.pdf\n",
            "- AI 5018213-85.2025.8.21.7000 Parte 8-compressed.pdf\n",
            "- AI 5018213-85.2025.8.21.7000 Parte 1-compressed-ocr.pdf\n",
            "- AI 5018213-85.2025.8.21.7000 Parte 7-compressed.pdf\n",
            "-------------------------------------\n",
            "\n",
            "[SUCESSO] Renomeado: 'AI 5018213-85.2025.8.21.7000 Parte 1-compressed-ocr.pdf' -> 'AI 5018213-85 (TJRS) - Processo Completo (até 2025-10-27) - Parte 1 de 8.pdf'\n",
            "[SUCESSO] Renomeado: 'AI 5018213-85.2025.8.21.7000 Parte 2-compressed.pdf' -> 'AI 5018213-85 (TJRS) - Processo Completo (até 2025-10-27) - Parte 2 de 8.pdf'\n",
            "[SUCESSO] Renomeado: 'AI 5018213-85.2025.8.21.7000 Parte 3-compressed.pdf' -> 'AI 5018213-85 (TJRS) - Processo Completo (até 2025-10-27) - Parte 3 de 8.pdf'\n",
            "[SUCESSO] Renomeado: 'AI 5018213-85.2025.8.21.7000 Parte 4-compressed.pdf' -> 'AI 5018213-85 (TJRS) - Processo Completo (até 2025-10-27) - Parte 4 de 8.pdf'\n",
            "[SUCESSO] Renomeado: 'AI 5018213-85.2025.8.21.7000 Parte 5-compressed.pdf' -> 'AI 5018213-85 (TJRS) - Processo Completo (até 2025-10-27) - Parte 5 de 8.pdf'\n",
            "[SUCESSO] Renomeado: 'AI 5018213-85.2025.8.21.7000 Parte 6-compressed.pdf' -> 'AI 5018213-85 (TJRS) - Processo Completo (até 2025-10-27) - Parte 6 de 8.pdf'\n",
            "[SUCESSO] Renomeado: 'AI 5018213-85.2025.8.21.7000 Parte 7-compressed.pdf' -> 'AI 5018213-85 (TJRS) - Processo Completo (até 2025-10-27) - Parte 7 de 8.pdf'\n",
            "[SUCESSO] Renomeado: 'AI 5018213-85.2025.8.21.7000 Parte 8-compressed.pdf' -> 'AI 5018213-85 (TJRS) - Processo Completo (até 2025-10-27) - Parte 8 de 8.pdf'\n",
            "\n",
            "\n",
            "--- PROCESSO CONCLUÍDO ---\n",
            "Arquivos renomeados com sucesso: 8\n",
            "Arquivos antigos não encontrados nesta pasta: 0\n",
            "Arquivos pulados (novo nome já existia ou nome já correto): 0\n"
          ]
        }
      ]
    }
  ]
}